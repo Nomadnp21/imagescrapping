{
 "cells": [
  {
   "cell_type": "code",
   "execution_count": 1,
   "id": "6d7fa72d-0a16-4ba9-af5e-5391f8456a12",
   "metadata": {},
   "outputs": [],
   "source": [
    "import requests\n",
    "import logging\n",
    "import os\n",
    "from bs4 import BeautifulSoup\n",
    "from urllib.request import urlopen\n"
   ]
  },
  {
   "cell_type": "code",
   "execution_count": 2,
   "id": "e5111dae-f5ad-483e-8237-9e9f3975c0dc",
   "metadata": {},
   "outputs": [],
   "source": [
    "save_dir=\"images/\"\n",
    "if not os.path.exists(save_dir):\n",
    "    os.makedirs(save_dir)"
   ]
  },
  {
   "cell_type": "code",
   "execution_count": 3,
   "id": "d5cf55b0-19c2-4ac0-a19b-354a4c9db96d",
   "metadata": {},
   "outputs": [],
   "source": [
    "query=\"elon musk\"\n",
    "#url=https://www.google.com/search?q=query&tbm=isch&ved=2ahUKEwj2r5efjtGAAxVzp2MGHbK3B2UQ2-cCegQIABAA&oq&gs_lcp=CgNpbWcQARgDMgcIIxDqAhAnMgcIIxDqAhAnMgcIIxDqAhAnMgcIIxDqAhAnMgcIIxDqAhAnMgcIIxDqAhAnMgcIIxDqAhAnMgcIIxDqAhAnMgcIIxDqAhAnMgcIIxDqAhAnOgQIIxAnOgoIABCKBRCxAxBDOggIABCABBCxAzoHCAAQigUQQzoNCAAQigUQsQMQgwEQQ1CTE1i1GWDoiAFoA3AAeAKAAZkBiAHXBpIBAzAuNpgBAKABAaoBC2d3cy13aXotaW1nsAEKuAEDwAEB&sclient=img&ei=VlTUZPasIvPOjuMPsu-eqAY&bih=595&biw=1280&rlz=1C1JJTC_enIN1067IN1067"
   ]
  },
  {
   "cell_type": "code",
   "execution_count": 5,
   "id": "66c638c1-9116-4154-a828-9113592fa41a",
   "metadata": {},
   "outputs": [],
   "source": [
    "response=requests.get(f\"https://www.google.com/search?q={query}&tbm=isch&ved=2ahUKEwj2r5efjtGAAxVzp2MGHbK3B2UQ2-cCegQIABAA&oq&gs_lcp=CgNpbWcQARgDMgcIIxDqAhAnMgcIIxDqAhAnMgcIIxDqAhAnMgcIIxDqAhAnMgcIIxDqAhAnMgcIIxDqAhAnMgcIIxDqAhAnMgcIIxDqAhAnMgcIIxDqAhAnMgcIIxDqAhAnOgQIIxAnOgoIABCKBRCxAxBDOggIABCABBCxAzoHCAAQigUQQzoNCAAQigUQsQMQgwEQQ1CTE1i1GWDoiAFoA3AAeAKAAZkBiAHXBpIBAzAuNpgBAKABAaoBC2d3cy13aXotaW1nsAEKuAEDwAEB&sclient=img&ei=VlTUZPasIvPOjuMPsu-eqAY&bih=595&biw=1280&rlz=1C1JJTC_enIN1067IN1067\")"
   ]
  },
  {
   "cell_type": "code",
   "execution_count": 6,
   "id": "c475f257-604d-4d5b-9767-02b3cd735d0c",
   "metadata": {},
   "outputs": [
    {
     "data": {
      "text/plain": [
       "<Response [200]>"
      ]
     },
     "execution_count": 6,
     "metadata": {},
     "output_type": "execute_result"
    }
   ],
   "source": [
    "response"
   ]
  },
  {
   "cell_type": "code",
   "execution_count": null,
   "id": "582efd6d-c364-47db-a9ba-1e3c87b48943",
   "metadata": {},
   "outputs": [],
   "source": []
  }
 ],
 "metadata": {
  "kernelspec": {
   "display_name": "Python 3 (ipykernel)",
   "language": "python",
   "name": "python3"
  },
  "language_info": {
   "codemirror_mode": {
    "name": "ipython",
    "version": 3
   },
   "file_extension": ".py",
   "mimetype": "text/x-python",
   "name": "python",
   "nbconvert_exporter": "python",
   "pygments_lexer": "ipython3",
   "version": "3.8.0"
  }
 },
 "nbformat": 4,
 "nbformat_minor": 5
}
