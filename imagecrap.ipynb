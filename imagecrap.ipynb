{
 "cells": [
  {
   "cell_type": "code",
   "execution_count": 22,
   "id": "6d7fa72d-0a16-4ba9-af5e-5391f8456a12",
   "metadata": {},
   "outputs": [],
   "source": [
    "import requests\n",
    "import logging\n",
    "import os\n",
    "from bs4 import BeautifulSoup\n",
    "from urllib.request import urlopen\n"
   ]
  },
  {
   "cell_type": "code",
   "execution_count": 23,
   "id": "e5111dae-f5ad-483e-8237-9e9f3975c0dc",
   "metadata": {},
   "outputs": [],
   "source": [
    "save_dir=\"images/\"\n",
    "if not os.path.exists(save_dir):\n",
    "    os.makedirs(save_dir)"
   ]
  },
  {
   "cell_type": "code",
   "execution_count": 24,
   "id": "d5cf55b0-19c2-4ac0-a19b-354a4c9db96d",
   "metadata": {},
   "outputs": [],
   "source": [
    "query=\"saad lamjarred\"\n",
    "#url=https://www.google.com/search?q=query&tbm=isch&ved=2ahUKEwj2r5efjtGAAxVzp2MGHbK3B2UQ2-cCegQIABAA&oq&gs_lcp=CgNpbWcQARgDMgcIIxDqAhAnMgcIIxDqAhAnMgcIIxDqAhAnMgcIIxDqAhAnMgcIIxDqAhAnMgcIIxDqAhAnMgcIIxDqAhAnMgcIIxDqAhAnMgcIIxDqAhAnMgcIIxDqAhAnOgQIIxAnOgoIABCKBRCxAxBDOggIABCABBCxAzoHCAAQigUQQzoNCAAQigUQsQMQgwEQQ1CTE1i1GWDoiAFoA3AAeAKAAZkBiAHXBpIBAzAuNpgBAKABAaoBC2d3cy13aXotaW1nsAEKuAEDwAEB&sclient=img&ei=VlTUZPasIvPOjuMPsu-eqAY&bih=595&biw=1280&rlz=1C1JJTC_enIN1067IN1067"
   ]
  },
  {
   "cell_type": "code",
   "execution_count": 25,
   "id": "66c638c1-9116-4154-a828-9113592fa41a",
   "metadata": {},
   "outputs": [],
   "source": [
    "response=requests.get(f\"https://www.google.com/search?q={query}&tbm=isch&ved=2ahUKEwj2r5efjtGAAxVzp2MGHbK3B2UQ2-cCegQIABAA&oq&gs_lcp=CgNpbWcQARgDMgcIIxDqAhAnMgcIIxDqAhAnMgcIIxDqAhAnMgcIIxDqAhAnMgcIIxDqAhAnMgcIIxDqAhAnMgcIIxDqAhAnMgcIIxDqAhAnMgcIIxDqAhAnMgcIIxDqAhAnOgQIIxAnOgoIABCKBRCxAxBDOggIABCABBCxAzoHCAAQigUQQzoNCAAQigUQsQMQgwEQQ1CTE1i1GWDoiAFoA3AAeAKAAZkBiAHXBpIBAzAuNpgBAKABAaoBC2d3cy13aXotaW1nsAEKuAEDwAEB&sclient=img&ei=VlTUZPasIvPOjuMPsu-eqAY&bih=595&biw=1280&rlz=1C1JJTC_enIN1067IN1067\")"
   ]
  },
  {
   "cell_type": "code",
   "execution_count": 26,
   "id": "c475f257-604d-4d5b-9767-02b3cd735d0c",
   "metadata": {},
   "outputs": [
    {
     "data": {
      "text/plain": [
       "<Response [200]>"
      ]
     },
     "execution_count": 26,
     "metadata": {},
     "output_type": "execute_result"
    }
   ],
   "source": [
    "response"
   ]
  },
  {
   "cell_type": "code",
   "execution_count": 27,
   "id": "582efd6d-c364-47db-a9ba-1e3c87b48943",
   "metadata": {},
   "outputs": [],
   "source": [
    "soup=BeautifulSoup(response.content,\"html.parser\")"
   ]
  },
  {
   "cell_type": "code",
   "execution_count": 28,
   "id": "1d5ec689-4b42-4273-928d-8ebfa74dfa56",
   "metadata": {},
   "outputs": [
    {
     "data": {
      "text/plain": [
       "<!DOCTYPE html PUBLIC \"-//WAPFORUM//DTD XHTML Mobile 1.0//EN\" \"http://www.wapforum.org/DTD/xhtml-mobile10.dtd\">\n",
       "<html lang=\"en-IN\" xmlns=\"http://www.w3.org/1999/xhtml\"><head><meta content=\"application/xhtml+xml; charset=utf-8\" http-equiv=\"Content-Type\"/><meta content=\"no-cache\" name=\"Cache-Control\"/><title>saad lamjarred - Google Search</title><style>a{text-decoration:none;color:inherit}a:hover{text-decoration:underline}a img{border:0}body{font-family:arial,sans-serif;padding:8px;margin:0 auto;max-width:700px;min-width:240px;}.FbhRzb{border-left:thin solid #dadce0;border-right:thin solid #dadce0;border-top:thin solid #dadce0;height:40px;overflow:hidden}.n692Zd{margin-bottom:10px}.cvifge{height:40px;border-spacing:0}.QvGUP{height:40px;padding:0 8px 0 8px;vertical-align:top}.O4cRJf{height:40px;width:100%;padding:0;padding-right:16px}.O1ePr{height:40px;padding:0;vertical-align:top}.kgJEQe{height:36px;width:98px;vertical-align:top;margin-top:4px}.lXLRf{vertical-align:top}.MhzMZd{border:0;vertical-align:middle;font-size:14px;height:40px;padding:0;width:100%;padding-left:16px}.xB0fq{height:40px;border:none;font-size:14px;background-color:#1a73e8;color:#fff;padding:0 16px;margin:0;vertical-align:top;cursor:pointer}.xB0fq:focus{border:1px solid #1a73e8}.M7pB2{border:thin solid #dadce0;margin:0 0 3px 0;font-size:13px;font-weight:500;height:40px}.euZec{width:100%;height:40px;text-align:center;border-spacing:0}table.euZec td{padding:0;width:25%}.QIqI7{display:inline-block;padding-top:4px;font-weight:bold;color:#4285f4}.EY24We{border-bottom:2px solid #4285f4}.CsQyDc{display:inline-block;color:#70757a}.TuS8Ad{font-size:14px}.HddGcc{padding:8px;color:#70757a}.dzp8ae{font-weight:bold;color:#3c4043}.rEM8G{color:#70757a}.bookcf{table-layout:fixed;width:100%;border-spacing:0}.InWNIe{text-align:center}.uZgmoc{border:thin solid #dadce0;color:#70757a;font-size:14px;text-align:center;table-layout:fixed;width:100%}.frGj1b{display:block;padding:12px 0 12px 0;width:100%}.BnJWBc{text-align:center;padding:6px 0 13px 0;height:35px}.e3goi{vertical-align:top;padding:0;height:180px}.GpQGbf{margin:auto;border-collapse:collapse;border-spacing:0;width:100%}</style></head><body><style>.X6ZCif{color:#202124;font-size:11px;line-height:16px;display:inline-block;padding-top:2px;overflow:hidden;padding-bottom:4px;width:100%}.TwVfHd{border-radius:16px;border:thin solid #dadce0;display:inline-block;padding:8px 8px;margin-right:8px;margin-bottom:4px}.yekiAe{background-color:#dadce0}.mnTahd{width:100%}.ezO2md{border:thin solid #dadce0;padding:12px 16px 12px 16px;margin-bottom:10px;font-family:arial,sans-serif}.lIMUZd{font-family:arial,sans-serif}.IkMU6e{border-spacing:0}.SjCsie{width:100%}.EnarA{text-align:center}.NZWO1b{width:162px;height:140px;line-height:140px;overflow:'hidden';text-align:center}.yWs4tf{text-align:center;margin:auto;vertical-align:middle;max-width:162px;max-height:140px}.jB2rPd{padding-top:2px;padding-bottom:8px;}.fYyStc{word-break:break-word}.ynsChf{display:block;white-space:nowrap;overflow:hidden;text-overflow:ellipsis}.Fj3V3b{color:#1967d2;font-size:14px;line-height:20px}.FrIlee{color:#202124;font-size:11px;line-height:16px}.F9iS2e{color:#70757a;font-size:11px;line-height:16px}.WMQ2Le{color:#70757a;font-size:12px;line-height:16px}.x3G5ab{color:#202124;font-size:12px;line-height:16px}.fuLhoc{color:#1967d2;font-size:16px;line-height:20px}.epoveb{font-size:24px;line-height:28px;font-weight:400;color:#202124}.dXDvrc{color:#0d652d;font-size:14px;line-height:20px;word-wrap:break-word}.dloBPe{font-weight:bold}.YVIcad{color:#70757a}.JkVVdd{color:#ea4335}.oXZRFd{color:#ea4335}.MQHtg{color:#fbbc04}.pyMRrb{color:#1e8e3e}.EtTZid{color:#1e8e3e}.M3vVJe{color:#1967d2}.qXLe6d{display:block}.NHQNef{font-style:italic}.Cb8Z7c{white-space:pre}a.ZWRArf{text-decoration:none}a .CVA68e:hover{text-decoration:underline}</style><div class=\"n692Zd\"><div class=\"BnJWBc\"><a class=\"lXLRf\" href=\"/?bih=595&amp;biw=1280&amp;rlz=1C1JJTC_enIN1067IN1067&amp;output=images&amp;ie=UTF-8&amp;tbm=isch&amp;sa=X&amp;ved=0ahUKEwi4uO7Jl9GAAxWM-jgGHTHdBaUQPAgC\"><img alt=\"Google\" class=\"kgJEQe\" src=\"/images/branding/searchlogo/1x/googlelogo_desk_heirloom_color_150x55dp.gif\"/></a></div><div class=\"FbhRzb\"><form action=\"/search\"><input name=\"bih\" type=\"hidden\" value=\"595\"/><input name=\"biw\" type=\"hidden\" value=\"1280\"/><input name=\"rlz\" type=\"hidden\" value=\"1C1JJTC_enIN1067IN1067\"/><input name=\"ie\" type=\"hidden\" value=\"ISO-8859-1\"/><input name=\"tbm\" type=\"hidden\" value=\"isch\"/><input name=\"oq\" type=\"hidden\"/><input name=\"aqs\" type=\"hidden\"/><table class=\"cvifge\"><tr><td class=\"O4cRJf\"><input class=\"MhzMZd\" name=\"q\" type=\"text\" value=\"saad lamjarred\"/></td><td class=\"O1ePr\"><input class=\"xB0fq\" type=\"submit\" value=\"Search\"/></td></tr></table></form></div><div class=\"M7pB2\"><table class=\"euZec\"><tbody><tr><td><a class=\"CsQyDc\" href=\"/search?q=saad+lamjarred&amp;bih=595&amp;biw=1280&amp;rlz=1C1JJTC_enIN1067IN1067&amp;ie=UTF-8&amp;source=lnms&amp;sa=X&amp;ved=0ahUKEwi4uO7Jl9GAAxWM-jgGHTHdBaUQ_AUIBCgA\">ALL</a></td><td class=\"EY24We\"><span class=\"QIqI7\">IMAGES</span></td><td><a class=\"CsQyDc\" href=\"/search?q=saad+lamjarred&amp;bih=595&amp;biw=1280&amp;rlz=1C1JJTC_enIN1067IN1067&amp;ie=UTF-8&amp;tbm=nws&amp;source=lnms&amp;sa=X&amp;ved=0ahUKEwi4uO7Jl9GAAxWM-jgGHTHdBaUQ_AUIBigC\">NEWS</a></td><td><a class=\"CsQyDc\" href=\"/search?q=saad+lamjarred&amp;bih=595&amp;biw=1280&amp;rlz=1C1JJTC_enIN1067IN1067&amp;ie=UTF-8&amp;tbm=vid&amp;source=lnms&amp;sa=X&amp;ved=0ahUKEwi4uO7Jl9GAAxWM-jgGHTHdBaUQ_AUIBygD\">VIDEOS</a></td></tr></tbody></table></div></div><div class=\"X6ZCif\"><a class=\"TwVfHd\" href=\"/search?bih=595&amp;biw=1280&amp;rlz=1C1JJTC_enIN1067IN1067&amp;ie=UTF-8&amp;tbm=isch&amp;q=saad+lamjarred&amp;chips=q:saad+lamjarred,g_1:style&amp;sa=X&amp;ved=0ahUKEwi4uO7Jl9GAAxWM-jgGHTHdBaUQ4lYICygA\">style</a><a class=\"TwVfHd\" href=\"/search?bih=595&amp;biw=1280&amp;rlz=1C1JJTC_enIN1067IN1067&amp;ie=UTF-8&amp;tbm=isch&amp;q=saad+lamjarred&amp;chips=q:saad+lamjarred,g_1:wallpaper&amp;sa=X&amp;ved=0ahUKEwi4uO7Jl9GAAxWM-jgGHTHdBaUQ4lYIDCgB\">wallpaper</a><a class=\"TwVfHd\" href=\"/search?bih=595&amp;biw=1280&amp;rlz=1C1JJTC_enIN1067IN1067&amp;ie=UTF-8&amp;tbm=isch&amp;q=saad+lamjarred&amp;chips=q:saad+lamjarred,g_1:instagram&amp;sa=X&amp;ved=0ahUKEwi4uO7Jl9GAAxWM-jgGHTHdBaUQ4lYIDSgC\">instagram</a><a class=\"TwVfHd\" href=\"/search?bih=595&amp;biw=1280&amp;rlz=1C1JJTC_enIN1067IN1067&amp;ie=UTF-8&amp;tbm=isch&amp;q=saad+lamjarred&amp;chips=q:saad+lamjarred,g_1:wedding&amp;sa=X&amp;ved=0ahUKEwi4uO7Jl9GAAxWM-jgGHTHdBaUQ4lYIDigD\">wedding</a><a class=\"TwVfHd\" href=\"/search?bih=595&amp;biw=1280&amp;rlz=1C1JJTC_enIN1067IN1067&amp;ie=UTF-8&amp;tbm=isch&amp;q=saad+lamjarred&amp;chips=q:saad+lamjarred,g_1:lm3allem&amp;sa=X&amp;ved=0ahUKEwi4uO7Jl9GAAxWM-jgGHTHdBaUQ4lYIDygE\">lm3allem</a><a class=\"TwVfHd\" href=\"/search?bih=595&amp;biw=1280&amp;rlz=1C1JJTC_enIN1067IN1067&amp;ie=UTF-8&amp;tbm=isch&amp;q=saad+lamjarred&amp;chips=q:saad+lamjarred,g_1:mohamed+ramadan&amp;sa=X&amp;ved=0ahUKEwi4uO7Jl9GAAxWM-jgGHTHdBaUQ4lYIECgF\">mohamed ramadan</a><a class=\"TwVfHd\" href=\"/search?bih=595&amp;biw=1280&amp;rlz=1C1JJTC_enIN1067IN1067&amp;ie=UTF-8&amp;tbm=isch&amp;q=saad+lamjarred&amp;chips=q:saad+lamjarred,g_1:facebook&amp;sa=X&amp;ved=0ahUKEwi4uO7Jl9GAAxWM-jgGHTHdBaUQ4lYIESgG\">facebook</a><a class=\"TwVfHd\" href=\"/search?bih=595&amp;biw=1280&amp;rlz=1C1JJTC_enIN1067IN1067&amp;ie=UTF-8&amp;tbm=isch&amp;q=saad+lamjarred&amp;chips=q:saad+lamjarred,g_1:zouhair+bahaoui&amp;sa=X&amp;ved=0ahUKEwi4uO7Jl9GAAxWM-jgGHTHdBaUQ4lYIEigH\">zouhair bahaoui</a><a class=\"TwVfHd\" href=\"/search?bih=595&amp;biw=1280&amp;rlz=1C1JJTC_enIN1067IN1067&amp;ie=UTF-8&amp;tbm=isch&amp;q=saad+lamjarred&amp;chips=q:saad+lamjarred,g_1:casablanca&amp;sa=X&amp;ved=0ahUKEwi4uO7Jl9GAAxWM-jgGHTHdBaUQ4lYIEygI\">casablanca</a><a class=\"TwVfHd\" href=\"/search?bih=595&amp;biw=1280&amp;rlz=1C1JJTC_enIN1067IN1067&amp;ie=UTF-8&amp;tbm=isch&amp;q=saad+lamjarred&amp;chips=q:saad+lamjarred,g_1:singer&amp;sa=X&amp;ved=0ahUKEwi4uO7Jl9GAAxWM-jgGHTHdBaUQ4lYIFCgJ\">singer</a></div><div><table class=\"GpQGbf\"><tr><td align=\"center\" class=\"e3goi\"><div class=\"mnTahd\"> <div> <div class=\"lIMUZd\"><div><table class=\"IkMU6e\"><tr><td><a href=\"/url?q=https://mn2s.com/booking-agency/live-roster/saad-lamjarred/&amp;sa=U&amp;ved=2ahUKEwi4uO7Jl9GAAxWM-jgGHTHdBaUQqoUBegQIBRAB&amp;usg=AOvVaw1LalWRDNmGLIZJSseMJASZ\"><div class=\"NZWO1b\"><img alt=\"\" class=\"yWs4tf\" src=\"https://encrypted-tbn0.gstatic.com/images?q=tbn:ANd9GcRZaB1eJaK4Ae6p-mwSLDJkfjo-mcLr6qK1UsUrmxLS7ciZvhBgwCN7oYa5Bw&amp;s\"/></div></a></td></tr><tr><td><a href=\"/url?q=https://mn2s.com/booking-agency/live-roster/saad-lamjarred/&amp;sa=U&amp;ved=2ahUKEwi4uO7Jl9GAAxWM-jgGHTHdBaUQr4kDegQIBRAC&amp;usg=AOvVaw1hgoIo25mqaLtM-Cgxsye8\"><div class=\"jB2rPd\"> <span class=\"qXLe6d x3G5ab\"> <span class=\"fYyStc\">Saad Lamjarred | Booking...</span> </span> <span class=\"qXLe6d F9iS2e\"> <span class=\"fYyStc\">mn2s.com</span> </span> </div></a></td></tr></table></div></div> </div> </div></td><td align=\"center\" class=\"e3goi\"><div class=\"mnTahd\"> <div> <div class=\"lIMUZd\"><div><table class=\"IkMU6e\"><tr><td><a href=\"/url?q=https://www.youtube.com/%40SaadLamjarred/about&amp;sa=U&amp;ved=2ahUKEwi4uO7Jl9GAAxWM-jgGHTHdBaUQqoUBegQIExAB&amp;usg=AOvVaw06g-1BQxqBGhCPWUuE5xMP\"><div class=\"NZWO1b\"><img alt=\"\" class=\"yWs4tf\" src=\"https://encrypted-tbn0.gstatic.com/images?q=tbn:ANd9GcRTDiEMdjXnSFCdKGRQUDhpyafTcJ5N2Uqy3NbGIsI-0KvEu-DJKph-NeF3tIs&amp;s\"/></div></a></td></tr><tr><td><a href=\"/url?q=https://www.youtube.com/%40SaadLamjarred/about&amp;sa=U&amp;ved=2ahUKEwi4uO7Jl9GAAxWM-jgGHTHdBaUQr4kDegQIExAC&amp;usg=AOvVaw2D4qQuix3CslfgHgD7EnZb\"><div class=\"jB2rPd\"> <span class=\"qXLe6d x3G5ab\"> <span class=\"fYyStc\" dir=\"rtl\">Saad Lamjarred | سعد لمجرد...</span> </span> <span class=\"qXLe6d F9iS2e\"> <span class=\"fYyStc\">www.youtube.com</span> </span> </div></a></td></tr></table></div></div> </div> </div></td><td align=\"center\" class=\"e3goi\"><div class=\"mnTahd\"> <div> <div class=\"lIMUZd\"><div><table class=\"IkMU6e\"><tr><td><a href=\"/url?q=https://www.thestatesman.com/entertainment/urvashi-rautela-to-feature-in-arabic-avatar-in-upcoming-music-video-for-saad-lamjarred-1502846719.html&amp;sa=U&amp;ved=2ahUKEwi4uO7Jl9GAAxWM-jgGHTHdBaUQqoUBegQIEhAB&amp;usg=AOvVaw3cQdwGjYput8R3AWBWvL58\"><div class=\"NZWO1b\"><img alt=\"\" class=\"yWs4tf\" src=\"https://encrypted-tbn0.gstatic.com/images?q=tbn:ANd9GcRxMI2pufex4AGswpO5utRRYR9F1tRAy3Cd8MbYBraw3vR6Eu5EEr4Z11nAVw&amp;s\"/></div></a></td></tr><tr><td><a href=\"/url?q=https://www.thestatesman.com/entertainment/urvashi-rautela-to-feature-in-arabic-avatar-in-upcoming-music-video-for-saad-lamjarred-1502846719.html&amp;sa=U&amp;ved=2ahUKEwi4uO7Jl9GAAxWM-jgGHTHdBaUQr4kDegQIEhAC&amp;usg=AOvVaw1nWUIggRsS25xMwa1fgJsX\"><div class=\"jB2rPd\"> <span class=\"qXLe6d x3G5ab\"> <span class=\"fYyStc\">Urvashi Rautela to feature...</span> </span> <span class=\"qXLe6d F9iS2e\"> <span class=\"fYyStc\">www.thestatesman.com</span> </span> </div></a></td></tr></table></div></div> </div> </div></td><td align=\"center\" class=\"e3goi\"><div class=\"mnTahd\"> <div> <div class=\"lIMUZd\"><div><table class=\"IkMU6e\"><tr><td><a href=\"/url?q=https://mumbaimirror.indiatimes.com/entertainment/bollywood/nora-fatehis-arabic-act-with-saad-lamjarred/articleshow/64847558.cms&amp;sa=U&amp;ved=2ahUKEwi4uO7Jl9GAAxWM-jgGHTHdBaUQqoUBegQIDBAB&amp;usg=AOvVaw2VJGkCUB-_zRKJ4WEAW8-L\"><div class=\"NZWO1b\"><img alt=\"\" class=\"yWs4tf\" src=\"https://encrypted-tbn0.gstatic.com/images?q=tbn:ANd9GcSrnO8tU8wdCUtLg029LmIOn844-Fk46An78pk3A_N6KQeoZjBvCk5vSo8Peoo&amp;s\"/></div></a></td></tr><tr><td><a href=\"/url?q=https://mumbaimirror.indiatimes.com/entertainment/bollywood/nora-fatehis-arabic-act-with-saad-lamjarred/articleshow/64847558.cms&amp;sa=U&amp;ved=2ahUKEwi4uO7Jl9GAAxWM-jgGHTHdBaUQr4kDegQIDBAC&amp;usg=AOvVaw3yuO8wSiFQH36XJKp-wVtf\"><div class=\"jB2rPd\"> <span class=\"qXLe6d x3G5ab\"> <span class=\"fYyStc\">Nora Fatehi's Arabic act...</span> </span> <span class=\"qXLe6d F9iS2e\"> <span class=\"fYyStc\">mumbaimirror.indiatimes.com...</span> </span> </div></a></td></tr></table></div></div> </div> </div></td></tr><tr><td align=\"center\" class=\"e3goi\"><div class=\"mnTahd\"> <div> <div class=\"lIMUZd\"><div><table class=\"IkMU6e\"><tr><td><a href=\"/url?q=https://www.instagram.com/saadlamjarrednews1/&amp;sa=U&amp;ved=2ahUKEwi4uO7Jl9GAAxWM-jgGHTHdBaUQqoUBegQIChAB&amp;usg=AOvVaw0mnQVsc8R-unQ17APqgnE9\"><div class=\"NZWO1b\"><img alt=\"\" class=\"yWs4tf\" src=\"https://encrypted-tbn0.gstatic.com/images?q=tbn:ANd9GcQumFfjs7SkOWh2GR2dlHyP1xQzwli3T0DgjhgalrkmLySa6mfbWiVUbHawCTY&amp;s\"/></div></a></td></tr><tr><td><a href=\"/url?q=https://www.instagram.com/saadlamjarrednews1/&amp;sa=U&amp;ved=2ahUKEwi4uO7Jl9GAAxWM-jgGHTHdBaUQr4kDegQIChAC&amp;usg=AOvVaw10UZ97ARf7w-6L9NPTNZge\"><div class=\"jB2rPd\"> <span class=\"qXLe6d x3G5ab\"> <span class=\"fYyStc\">Saad Lamjarred News...</span> </span> <span class=\"qXLe6d F9iS2e\"> <span class=\"fYyStc\">www.instagram.com</span> </span> </div></a></td></tr></table></div></div> </div> </div></td><td align=\"center\" class=\"e3goi\"><div class=\"mnTahd\"> <div> <div class=\"lIMUZd\"><div><table class=\"IkMU6e\"><tr><td><a href=\"/url?q=https://www.mid-day.com/entertainment/bollywood-news/article/shreya-ghoshal-and-arabic-popstar-saad-lamjarred-come-together-for-a-musical-delight-23297098&amp;sa=U&amp;ved=2ahUKEwi4uO7Jl9GAAxWM-jgGHTHdBaUQqoUBegQIDxAB&amp;usg=AOvVaw0exlqkzntxAegMu8RALiWH\"><div class=\"NZWO1b\"><img alt=\"\" class=\"yWs4tf\" src=\"https://encrypted-tbn0.gstatic.com/images?q=tbn:ANd9GcQ98_PZeTSJkCHFbefJmd-tNl8Rv2GpDSw4nsUJJofNOfl40SgKW3qLkb9MHQ&amp;s\"/></div></a></td></tr><tr><td><a href=\"/url?q=https://www.mid-day.com/entertainment/bollywood-news/article/shreya-ghoshal-and-arabic-popstar-saad-lamjarred-come-together-for-a-musical-delight-23297098&amp;sa=U&amp;ved=2ahUKEwi4uO7Jl9GAAxWM-jgGHTHdBaUQr4kDegQIDxAC&amp;usg=AOvVaw3sEdcG3eIaW1_TSv6fT4R8\"><div class=\"jB2rPd\"> <span class=\"qXLe6d x3G5ab\"> <span class=\"fYyStc\">Shreya Ghoshal and Arabic...</span> </span> <span class=\"qXLe6d F9iS2e\"> <span class=\"fYyStc\">www.mid-day.com</span> </span> </div></a></td></tr></table></div></div> </div> </div></td><td align=\"center\" class=\"e3goi\"><div class=\"mnTahd\"> <div> <div class=\"lIMUZd\"><div><table class=\"IkMU6e\"><tr><td><a href=\"/url?q=https://www.arabnews.com/node/2003761/saad-lamjarred-monthly-listeners-822679&amp;sa=U&amp;ved=2ahUKEwi4uO7Jl9GAAxWM-jgGHTHdBaUQqoUBegQIDRAB&amp;usg=AOvVaw3BRxWruODG2o5BJle0kkkg\"><div class=\"NZWO1b\"><img alt=\"\" class=\"yWs4tf\" src=\"https://encrypted-tbn0.gstatic.com/images?q=tbn:ANd9GcQlsP2OPRpPjMMjVc9BWgl2hM42tuhGYud55yUi88i_FuiL6ERpqdYRczorCpM&amp;s\"/></div></a></td></tr><tr><td><a href=\"/url?q=https://www.arabnews.com/node/2003761/saad-lamjarred-monthly-listeners-822679&amp;sa=U&amp;ved=2ahUKEwi4uO7Jl9GAAxWM-jgGHTHdBaUQr4kDegQIDRAC&amp;usg=AOvVaw32z5VxhGZY6LXOA63QqM_N\"><div class=\"jB2rPd\"> <span class=\"qXLe6d x3G5ab\"> <span class=\"fYyStc\">Saad Lamjarred (Monthly...</span> </span> <span class=\"qXLe6d F9iS2e\"> <span class=\"fYyStc\">www.arabnews.com</span> </span> </div></a></td></tr></table></div></div> </div> </div></td><td align=\"center\" class=\"e3goi\"><div class=\"mnTahd\"> <div> <div class=\"lIMUZd\"><div><table class=\"IkMU6e\"><tr><td><a href=\"/url?q=https://www.moroccoworldnews.com/2022/09/351528/moroccan-singer-saad-lamjarreds-wedding-photos-go-viral&amp;sa=U&amp;ved=2ahUKEwi4uO7Jl9GAAxWM-jgGHTHdBaUQqoUBegQICRAB&amp;usg=AOvVaw37DsbECJFZe6-mIg8nZMlk\"><div class=\"NZWO1b\"><img alt=\"\" class=\"yWs4tf\" src=\"https://encrypted-tbn0.gstatic.com/images?q=tbn:ANd9GcR07fLTpF6fww9Tm-Wc79h1L74XjRFkajTjI_AfTmJasz1JvoOkGrtIJd9C0w&amp;s\"/></div></a></td></tr><tr><td><a href=\"/url?q=https://www.moroccoworldnews.com/2022/09/351528/moroccan-singer-saad-lamjarreds-wedding-photos-go-viral&amp;sa=U&amp;ved=2ahUKEwi4uO7Jl9GAAxWM-jgGHTHdBaUQr4kDegQICRAC&amp;usg=AOvVaw3OhqhRSQ-adblM19Mus119\"><div class=\"jB2rPd\"> <span class=\"qXLe6d x3G5ab\"> <span class=\"fYyStc\">Moroccan Singer Saad...</span> </span> <span class=\"qXLe6d F9iS2e\"> <span class=\"fYyStc\">www.moroccoworldnews.com</span> </span> </div></a></td></tr></table></div></div> </div> </div></td></tr><tr><td align=\"center\" class=\"e3goi\"><div class=\"mnTahd\"> <div> <div class=\"lIMUZd\"><div><table class=\"IkMU6e\"><tr><td><a href=\"/url?q=https://www.reverbnation.com/saadlamjarred1&amp;sa=U&amp;ved=2ahUKEwi4uO7Jl9GAAxWM-jgGHTHdBaUQqoUBegQIEBAB&amp;usg=AOvVaw332IoZqawDs01Aw3HG5zoL\"><div class=\"NZWO1b\"><img alt=\"\" class=\"yWs4tf\" src=\"https://encrypted-tbn0.gstatic.com/images?q=tbn:ANd9GcQs0zrjTYFXxVuIQsHCg-WsP1Y8tztBQEiYQ7hMsC1qYTjReQ5ZpqSjIKniJ1s&amp;s\"/></div></a></td></tr><tr><td><a href=\"/url?q=https://www.reverbnation.com/saadlamjarred1&amp;sa=U&amp;ved=2ahUKEwi4uO7Jl9GAAxWM-jgGHTHdBaUQr4kDegQIEBAC&amp;usg=AOvVaw0pP5ayiVx_GLwqA-pybmgm\"><div class=\"jB2rPd\"> <span class=\"qXLe6d x3G5ab\"> <span class=\"fYyStc\">Saad Lamjarred |...</span> </span> <span class=\"qXLe6d F9iS2e\"> <span class=\"fYyStc\">www.reverbnation.com</span> </span> </div></a></td></tr></table></div></div> </div> </div></td><td align=\"center\" class=\"e3goi\"><div class=\"mnTahd\"> <div> <div class=\"lIMUZd\"><div><table class=\"IkMU6e\"><tr><td><a href=\"/url?q=https://www.pinterest.com/pin/685602743266634461/%3Famp_client_id%3DCLIENT_ID(_)%26mweb_unauth_id%3D%257B%257Bdefault.session%257D%257D%26amp_url%3Dhttps%253A%252F%252Fwww.pinterest.com%252Famp%252Fpin%252F685602743266634461%252F%26open_share%3Dt&amp;sa=U&amp;ved=2ahUKEwi4uO7Jl9GAAxWM-jgGHTHdBaUQqoUBegQIERAB&amp;usg=AOvVaw08Ti9kg6pYKyUXZRKKp5P6\"><div class=\"NZWO1b\"><img alt=\"\" class=\"yWs4tf\" src=\"https://encrypted-tbn0.gstatic.com/images?q=tbn:ANd9GcShidWGpF_DFvNQPs0iyhZZ7zTGTAlg0lEIiBuTVGn0UghwF4vMmcFy0-V8pg&amp;s\"/></div></a></td></tr><tr><td><a href=\"/url?q=https://www.pinterest.com/pin/685602743266634461/%3Famp_client_id%3DCLIENT_ID(_)%26mweb_unauth_id%3D%257B%257Bdefault.session%257D%257D%26amp_url%3Dhttps%253A%252F%252Fwww.pinterest.com%252Famp%252Fpin%252F685602743266634461%252F%26open_share%3Dt&amp;sa=U&amp;ved=2ahUKEwi4uO7Jl9GAAxWM-jgGHTHdBaUQr4kDegQIERAC&amp;usg=AOvVaw0oWRD2VNmFzwfQZdOWGn5m\"><div class=\"jB2rPd\"> <span class=\"qXLe6d x3G5ab\"> <span class=\"fYyStc\">Pin by M N on saadlamjarred...</span> </span> <span class=\"qXLe6d F9iS2e\"> <span class=\"fYyStc\">www.pinterest.com</span> </span> </div></a></td></tr></table></div></div> </div> </div></td><td align=\"center\" class=\"e3goi\"><div class=\"mnTahd\"> <div> <div class=\"lIMUZd\"><div><table class=\"IkMU6e\"><tr><td><a href=\"/url?q=https://www.pinterest.com/pin/365002744777232027/&amp;sa=U&amp;ved=2ahUKEwi4uO7Jl9GAAxWM-jgGHTHdBaUQqoUBegQIDhAB&amp;usg=AOvVaw1c_702gr_TgR0DpszciAxM\"><div class=\"NZWO1b\"><img alt=\"\" class=\"yWs4tf\" src=\"https://encrypted-tbn0.gstatic.com/images?q=tbn:ANd9GcR_Mc79szp_Z7LWmtz_lzHwNlS2UdU0BibvXChqrUm3VI7sGZAQmP_5T7MowQ&amp;s\"/></div></a></td></tr><tr><td><a href=\"/url?q=https://www.pinterest.com/pin/365002744777232027/&amp;sa=U&amp;ved=2ahUKEwi4uO7Jl9GAAxWM-jgGHTHdBaUQr4kDegQIDhAC&amp;usg=AOvVaw19KuqeONMD1wTEFfKrUWBN\"><div class=\"jB2rPd\"> <span class=\"qXLe6d x3G5ab\"> <span class=\"fYyStc\">Saad Lamjarred | Favorite...</span> </span> <span class=\"qXLe6d F9iS2e\"> <span class=\"fYyStc\">www.pinterest.com</span> </span> </div></a></td></tr></table></div></div> </div> </div></td><td align=\"center\" class=\"e3goi\"><div class=\"mnTahd\"> <div> <div class=\"lIMUZd\"><div><table class=\"IkMU6e\"><tr><td><a href=\"/url?q=https://www.siasat.com/tag/saad-lamjarred/&amp;sa=U&amp;ved=2ahUKEwi4uO7Jl9GAAxWM-jgGHTHdBaUQqoUBegQICxAB&amp;usg=AOvVaw3_CFWedovvRXbtWc5zNuwT\"><div class=\"NZWO1b\"><img alt=\"\" class=\"yWs4tf\" src=\"https://encrypted-tbn0.gstatic.com/images?q=tbn:ANd9GcRKyx3QqYJ6-jHGbtN5J0gCHZzPox4-P-43d67sBfN7yJy8qwRQnLFRqh_Q6jU&amp;s\"/></div></a></td></tr><tr><td><a href=\"/url?q=https://www.siasat.com/tag/saad-lamjarred/&amp;sa=U&amp;ved=2ahUKEwi4uO7Jl9GAAxWM-jgGHTHdBaUQr4kDegQICxAC&amp;usg=AOvVaw23eJRLzfuD4pt68M46m-RW\"><div class=\"jB2rPd\"> <span class=\"qXLe6d x3G5ab\"> <span class=\"fYyStc\">Saad Lamjarred - The Siasat...</span> </span> <span class=\"qXLe6d F9iS2e\"> <span class=\"fYyStc\">www.siasat.com</span> </span> </div></a></td></tr></table></div></div> </div> </div></td></tr><tr><td align=\"center\" class=\"e3goi\"><div class=\"mnTahd\"> <div> <div class=\"lIMUZd\"><div><table class=\"IkMU6e\"><tr><td><a href=\"/url?q=https://www.last.fm/music/Saad%2BLamjarred/%2Bimages&amp;sa=U&amp;ved=2ahUKEwi4uO7Jl9GAAxWM-jgGHTHdBaUQqoUBegQIBhAB&amp;usg=AOvVaw0uXSrOvXhmXdRs23n-T5VP\"><div class=\"NZWO1b\"><img alt=\"\" class=\"yWs4tf\" src=\"https://encrypted-tbn0.gstatic.com/images?q=tbn:ANd9GcTpkAyx-tld2-_Te1zPvO0bZdYpU_NHa1iKiKx1J8mP5SqSVzYsHzp-gMCmiA&amp;s\"/></div></a></td></tr><tr><td><a href=\"/url?q=https://www.last.fm/music/Saad%2BLamjarred/%2Bimages&amp;sa=U&amp;ved=2ahUKEwi4uO7Jl9GAAxWM-jgGHTHdBaUQr4kDegQIBhAC&amp;usg=AOvVaw0XoOqZuWsqnYWrZ72dvgQ9\"><div class=\"jB2rPd\"> <span class=\"qXLe6d x3G5ab\"> <span class=\"fYyStc\">Saad Lamjarred Photos |...</span> </span> <span class=\"qXLe6d F9iS2e\"> <span class=\"fYyStc\">www.last.fm</span> </span> </div></a></td></tr></table></div></div> </div> </div></td><td align=\"center\" class=\"e3goi\"><div class=\"mnTahd\"> <div> <div class=\"lIMUZd\"><div><table class=\"IkMU6e\"><tr><td><a href=\"/url?q=https://www.forbesmiddleeast.com/lists/arab-music-stars-2021/saad-lamjarred/&amp;sa=U&amp;ved=2ahUKEwi4uO7Jl9GAAxWM-jgGHTHdBaUQqoUBegQIABAB&amp;usg=AOvVaw0EBiZTTybH4mNnsvv8A80s\"><div class=\"NZWO1b\"><img alt=\"\" class=\"yWs4tf\" src=\"https://encrypted-tbn0.gstatic.com/images?q=tbn:ANd9GcQUiLKlQnRKLNdRqS43KOBZBMvnAzJTq4RTrgMrU2X2uLZf-tMJMVFODORR9g&amp;s\"/></div></a></td></tr><tr><td><a href=\"/url?q=https://www.forbesmiddleeast.com/lists/arab-music-stars-2021/saad-lamjarred/&amp;sa=U&amp;ved=2ahUKEwi4uO7Jl9GAAxWM-jgGHTHdBaUQr4kDegQIABAC&amp;usg=AOvVaw2PfBZIP3H4dzoj8A6PerFY\"><div class=\"jB2rPd\"> <span class=\"qXLe6d x3G5ab\"> <span class=\"fYyStc\">Saad Lamjarred - The...</span> </span> <span class=\"qXLe6d F9iS2e\"> <span class=\"fYyStc\">www.forbesmiddleeast.com</span> </span> </div></a></td></tr></table></div></div> </div> </div></td><td align=\"center\" class=\"e3goi\"><div class=\"mnTahd\"> <div> <div class=\"lIMUZd\"><div><table class=\"IkMU6e\"><tr><td><a href=\"/url?q=https://m.facebook.com/saadlamjarredvideos/&amp;sa=U&amp;ved=2ahUKEwi4uO7Jl9GAAxWM-jgGHTHdBaUQqoUBegQIARAB&amp;usg=AOvVaw3PHgnhOOD1CuD1prHEjFsV\"><div class=\"NZWO1b\"><img alt=\"\" class=\"yWs4tf\" src=\"https://encrypted-tbn0.gstatic.com/images?q=tbn:ANd9GcTu9mmCgrQ8G8WpqM74kT7A6FxUNeQEQzu0gRToLH5MVhwVHIqmM3ZrEj6Wd_8&amp;s\"/></div></a></td></tr><tr><td><a href=\"/url?q=https://m.facebook.com/saadlamjarredvideos/&amp;sa=U&amp;ved=2ahUKEwi4uO7Jl9GAAxWM-jgGHTHdBaUQr4kDegQIARAC&amp;usg=AOvVaw1Hu5FDoAmhT4a9z5mTsHia\"><div class=\"jB2rPd\"> <span class=\"qXLe6d x3G5ab\"> <span class=\"fYyStc\">Saad Lamjarred Magazine</span> </span> <span class=\"qXLe6d F9iS2e\"> <span class=\"fYyStc\">m.facebook.com</span> </span> </div></a></td></tr></table></div></div> </div> </div></td><td align=\"center\" class=\"e3goi\"><div class=\"mnTahd\"> <div> <div class=\"lIMUZd\"><div><table class=\"IkMU6e\"><tr><td><a href=\"/url?q=https://www.pxfuel.com/en/desktop-wallpaper-nlajr&amp;sa=U&amp;ved=2ahUKEwi4uO7Jl9GAAxWM-jgGHTHdBaUQqoUBegQIBxAB&amp;usg=AOvVaw2LTNaSXyeZNw2CJatA_Vhv\"><div class=\"NZWO1b\"><img alt=\"\" class=\"yWs4tf\" src=\"https://encrypted-tbn0.gstatic.com/images?q=tbn:ANd9GcS4eQVtHNTYxjMmsJDQZ1nOXU2EFA9uIIlTLVqW17dogAuiZHtPzBe4JQl70Q&amp;s\"/></div></a></td></tr><tr><td><a href=\"/url?q=https://www.pxfuel.com/en/desktop-wallpaper-nlajr&amp;sa=U&amp;ved=2ahUKEwi4uO7Jl9GAAxWM-jgGHTHdBaUQr4kDegQIBxAC&amp;usg=AOvVaw2gAxdha2gpG6iYnT9d5GZt\"><div class=\"jB2rPd\"> <span class=\"qXLe6d x3G5ab\"> <span class=\"fYyStc\">50 Best Saad Lamjarred HD...</span> </span> <span class=\"qXLe6d F9iS2e\"> <span class=\"fYyStc\">www.pxfuel.com</span> </span> </div></a></td></tr></table></div></div> </div> </div></td></tr><tr><td align=\"center\" class=\"e3goi\"><div class=\"mnTahd\"> <div> <div class=\"lIMUZd\"><div><table class=\"IkMU6e\"><tr><td><a href=\"/url?q=https://www.discogs.com/artist/5314577-Saad-Lamjarred&amp;sa=U&amp;ved=2ahUKEwi4uO7Jl9GAAxWM-jgGHTHdBaUQqoUBegQICBAB&amp;usg=AOvVaw0CmBSUzjhKiHmxITpHySqV\"><div class=\"NZWO1b\"><img alt=\"\" class=\"yWs4tf\" src=\"https://encrypted-tbn0.gstatic.com/images?q=tbn:ANd9GcRNYYHBFDv6rb7b5DNVB9b49Jjd3tnOPAPzpkWyfrG0FPcx2OKo2KjDs36FIwA&amp;s\"/></div></a></td></tr><tr><td><a href=\"/url?q=https://www.discogs.com/artist/5314577-Saad-Lamjarred&amp;sa=U&amp;ved=2ahUKEwi4uO7Jl9GAAxWM-jgGHTHdBaUQr4kDegQICBAC&amp;usg=AOvVaw2_MLl29Y6eOhQkeGwnWub_\"><div class=\"jB2rPd\"> <span class=\"qXLe6d x3G5ab\"> <span class=\"fYyStc\">Saad Lamjarred Discography...</span> </span> <span class=\"qXLe6d F9iS2e\"> <span class=\"fYyStc\">www.discogs.com</span> </span> </div></a></td></tr></table></div></div> </div> </div></td><td align=\"center\" class=\"e3goi\"><div class=\"mnTahd\"> <div> <div class=\"lIMUZd\"><div><table class=\"IkMU6e\"><tr><td><a href=\"/url?q=https://www.instagram.com/saadlamjarrednews1/&amp;sa=U&amp;ved=2ahUKEwi4uO7Jl9GAAxWM-jgGHTHdBaUQqoUBegQIAhAB&amp;usg=AOvVaw0_rW7Vs9O5J1VwhdZePQS_\"><div class=\"NZWO1b\"><img alt=\"\" class=\"yWs4tf\" src=\"https://encrypted-tbn0.gstatic.com/images?q=tbn:ANd9GcRqOWtn3raisS1Zhg3axmpX52HGuXSQ6nVh_3REhQC40Q8INm2vBWyeel7rlQ&amp;s\"/></div></a></td></tr><tr><td><a href=\"/url?q=https://www.instagram.com/saadlamjarrednews1/&amp;sa=U&amp;ved=2ahUKEwi4uO7Jl9GAAxWM-jgGHTHdBaUQr4kDegQIAhAC&amp;usg=AOvVaw0Kr7LV1UPcowo4fePz5xd9\"><div class=\"jB2rPd\"> <span class=\"qXLe6d x3G5ab\"> <span class=\"fYyStc\">Saad Lamjarred News...</span> </span> <span class=\"qXLe6d F9iS2e\"> <span class=\"fYyStc\">www.instagram.com</span> </span> </div></a></td></tr></table></div></div> </div> </div></td><td align=\"center\" class=\"e3goi\"><div class=\"mnTahd\"> <div> <div class=\"lIMUZd\"><div><table class=\"IkMU6e\"><tr><td><a href=\"/url?q=https://www.pinterest.com/pin/594545588315178897/&amp;sa=U&amp;ved=2ahUKEwi4uO7Jl9GAAxWM-jgGHTHdBaUQqoUBegQIBBAB&amp;usg=AOvVaw10FXgPbSvlPf1Fxx7NB3MZ\"><div class=\"NZWO1b\"><img alt=\"\" class=\"yWs4tf\" src=\"https://encrypted-tbn0.gstatic.com/images?q=tbn:ANd9GcTKe5nW8LYWrh3AEyGhPbLlCtZX3r_fXhLXRnbzHkgf-XAPgNw1Tu8ANJJzeA&amp;s\"/></div></a></td></tr><tr><td><a href=\"/url?q=https://www.pinterest.com/pin/594545588315178897/&amp;sa=U&amp;ved=2ahUKEwi4uO7Jl9GAAxWM-jgGHTHdBaUQr4kDegQIBBAC&amp;usg=AOvVaw2PFk2krZad8nIg3FictUsj\"><div class=\"jB2rPd\"> <span class=\"qXLe6d x3G5ab\"> <span class=\"fYyStc\">Pin by gfg ghbb on saad...</span> </span> <span class=\"qXLe6d F9iS2e\"> <span class=\"fYyStc\">www.pinterest.com</span> </span> </div></a></td></tr></table></div></div> </div> </div></td><td align=\"center\" class=\"e3goi\"><div class=\"mnTahd\"> <div> <div class=\"lIMUZd\"><div><table class=\"IkMU6e\"><tr><td><a href=\"/url?q=https://soundcloud.com/saadlamjarred&amp;sa=U&amp;ved=2ahUKEwi4uO7Jl9GAAxWM-jgGHTHdBaUQqoUBegQIAxAB&amp;usg=AOvVaw1IYe9knv5bjqIpAx6ZOVKP\"><div class=\"NZWO1b\"><img alt=\"\" class=\"yWs4tf\" src=\"https://encrypted-tbn0.gstatic.com/images?q=tbn:ANd9GcRtXXFJV5xIUP3tZE6eAWHXjwJ7wEeBwdUt-bGVJrqrsmRnzOvwO3CfvZW02xA&amp;s\"/></div></a></td></tr><tr><td><a href=\"/url?q=https://soundcloud.com/saadlamjarred&amp;sa=U&amp;ved=2ahUKEwi4uO7Jl9GAAxWM-jgGHTHdBaUQr4kDegQIAxAC&amp;usg=AOvVaw2tPDEc7gri4tLVyYrc153Y\"><div class=\"jB2rPd\"> <span class=\"qXLe6d x3G5ab\"> <span class=\"fYyStc\">Stream saad lamjarred music...</span> </span> <span class=\"qXLe6d F9iS2e\"> <span class=\"fYyStc\">soundcloud.com</span> </span> </div></a></td></tr></table></div></div> </div> </div></td></tr></table></div><table class=\"uZgmoc\"><tbody><td><a class=\"frGj1b\" href=\"/search?q=saad+lamjarred&amp;bih=595&amp;biw=1280&amp;rlz=1C1JJTC_enIN1067IN1067&amp;ie=UTF-8&amp;tbm=isch&amp;ei=H17UZPisPIz14-EPsbqXqAo&amp;start=20&amp;sa=N\">Next &gt;</a></td></tbody></table><br/><div class=\"TuS8Ad\" data-ved=\"0ahUKEwi4uO7Jl9GAAxWM-jgGHTHdBaUQpyoIUg\"><style>.VYM29{font-weight:bold}</style><div align=\"center\" class=\"HddGcc\"><span class=\"VYM29\">490009, Bhilai, Chhattisgarh</span><span> - </span><span>From your IP address</span><span> - </span><a href=\"/url?q=https://support.google.com/websearch%3Fp%3Dws_settings_location%26hl%3Den-IN&amp;sa=U&amp;ved=0ahUKEwi4uO7Jl9GAAxWM-jgGHTHdBaUQty4IUw&amp;usg=AOvVaw1hR0nZXUSt4QeCrQZkR_Zz\">Learn more</a></div><div align=\"center\"><a class=\"rEM8G\" href=\"/url?q=https://accounts.google.com/ServiceLogin%3Fcontinue%3Dhttps://www.google.com/search%253Fq%253Dsaad%252Blamjarred%2526tbm%253Disch%2526ved%253D2ahUKEwj2r5efjtGAAxVzp2MGHbK3B2UQ2-cCegQIABAA%2526oq%253D%2526gs_lcp%253DCgNpbWcQARgDMgcIIxDqAhAnMgcIIxDqAhAnMgcIIxDqAhAnMgcIIxDqAhAnMgcIIxDqAhAnMgcIIxDqAhAnMgcIIxDqAhAnMgcIIxDqAhAnMgcIIxDqAhAnMgcIIxDqAhAnOgQIIxAnOgoIABCKBRCxAxBDOggIABCABBCxAzoHCAAQigUQQzoNCAAQigUQsQMQgwEQQ1CTE1i1GWDoiAFoA3AAeAKAAZkBiAHXBpIBAzAuNpgBAKABAaoBC2d3cy13aXotaW1nsAEKuAEDwAEB%2526sclient%253Dimg%2526ei%253DVlTUZPasIvPOjuMPsu-eqAY%2526bih%253D595%2526biw%253D1280%2526rlz%253D1C1JJTC_enIN1067IN1067%26hl%3Den&amp;sa=U&amp;ved=0ahUKEwi4uO7Jl9GAAxWM-jgGHTHdBaUQxs8CCFQ&amp;usg=AOvVaw2atRGiibHVZ66Ewf3e2veb\">Sign in</a></div><div><table class=\"bookcf\"><tbody class=\"InWNIe\"><tr><td><a class=\"rEM8G\" href=\"https://www.google.com/preferences?hl=en&amp;sa=X&amp;ved=0ahUKEwi4uO7Jl9GAAxWM-jgGHTHdBaUQv5YECFU\">Settings</a></td><td><a class=\"rEM8G\" href=\"https://www.google.com/intl/en_in/policies/privacy/\">Privacy</a></td><td><a class=\"rEM8G\" href=\"https://www.google.com/intl/en_in/policies/terms/\">Terms</a></td></tr></tbody></table></div></div><div> </div></body></html>"
      ]
     },
     "execution_count": 28,
     "metadata": {},
     "output_type": "execute_result"
    }
   ],
   "source": [
    "soup"
   ]
  },
  {
   "cell_type": "code",
   "execution_count": 29,
   "id": "228b8680-1368-4ce3-bf84-17b86fa56613",
   "metadata": {},
   "outputs": [],
   "source": [
    "img_tags=soup.find_all(\"img\")"
   ]
  },
  {
   "cell_type": "code",
   "execution_count": 31,
   "id": "a4e7bc94-ea30-433e-b9a7-76246b4c68d2",
   "metadata": {},
   "outputs": [
    {
     "data": {
      "text/plain": [
       "[<img alt=\"\" class=\"yWs4tf\" src=\"https://encrypted-tbn0.gstatic.com/images?q=tbn:ANd9GcRTDiEMdjXnSFCdKGRQUDhpyafTcJ5N2Uqy3NbGIsI-0KvEu-DJKph-NeF3tIs&amp;s\"/>,\n",
       " <img alt=\"\" class=\"yWs4tf\" src=\"https://encrypted-tbn0.gstatic.com/images?q=tbn:ANd9GcRxMI2pufex4AGswpO5utRRYR9F1tRAy3Cd8MbYBraw3vR6Eu5EEr4Z11nAVw&amp;s\"/>,\n",
       " <img alt=\"\" class=\"yWs4tf\" src=\"https://encrypted-tbn0.gstatic.com/images?q=tbn:ANd9GcSrnO8tU8wdCUtLg029LmIOn844-Fk46An78pk3A_N6KQeoZjBvCk5vSo8Peoo&amp;s\"/>,\n",
       " <img alt=\"\" class=\"yWs4tf\" src=\"https://encrypted-tbn0.gstatic.com/images?q=tbn:ANd9GcQumFfjs7SkOWh2GR2dlHyP1xQzwli3T0DgjhgalrkmLySa6mfbWiVUbHawCTY&amp;s\"/>,\n",
       " <img alt=\"\" class=\"yWs4tf\" src=\"https://encrypted-tbn0.gstatic.com/images?q=tbn:ANd9GcQ98_PZeTSJkCHFbefJmd-tNl8Rv2GpDSw4nsUJJofNOfl40SgKW3qLkb9MHQ&amp;s\"/>,\n",
       " <img alt=\"\" class=\"yWs4tf\" src=\"https://encrypted-tbn0.gstatic.com/images?q=tbn:ANd9GcQlsP2OPRpPjMMjVc9BWgl2hM42tuhGYud55yUi88i_FuiL6ERpqdYRczorCpM&amp;s\"/>,\n",
       " <img alt=\"\" class=\"yWs4tf\" src=\"https://encrypted-tbn0.gstatic.com/images?q=tbn:ANd9GcR07fLTpF6fww9Tm-Wc79h1L74XjRFkajTjI_AfTmJasz1JvoOkGrtIJd9C0w&amp;s\"/>,\n",
       " <img alt=\"\" class=\"yWs4tf\" src=\"https://encrypted-tbn0.gstatic.com/images?q=tbn:ANd9GcQs0zrjTYFXxVuIQsHCg-WsP1Y8tztBQEiYQ7hMsC1qYTjReQ5ZpqSjIKniJ1s&amp;s\"/>,\n",
       " <img alt=\"\" class=\"yWs4tf\" src=\"https://encrypted-tbn0.gstatic.com/images?q=tbn:ANd9GcShidWGpF_DFvNQPs0iyhZZ7zTGTAlg0lEIiBuTVGn0UghwF4vMmcFy0-V8pg&amp;s\"/>,\n",
       " <img alt=\"\" class=\"yWs4tf\" src=\"https://encrypted-tbn0.gstatic.com/images?q=tbn:ANd9GcR_Mc79szp_Z7LWmtz_lzHwNlS2UdU0BibvXChqrUm3VI7sGZAQmP_5T7MowQ&amp;s\"/>,\n",
       " <img alt=\"\" class=\"yWs4tf\" src=\"https://encrypted-tbn0.gstatic.com/images?q=tbn:ANd9GcRKyx3QqYJ6-jHGbtN5J0gCHZzPox4-P-43d67sBfN7yJy8qwRQnLFRqh_Q6jU&amp;s\"/>,\n",
       " <img alt=\"\" class=\"yWs4tf\" src=\"https://encrypted-tbn0.gstatic.com/images?q=tbn:ANd9GcTpkAyx-tld2-_Te1zPvO0bZdYpU_NHa1iKiKx1J8mP5SqSVzYsHzp-gMCmiA&amp;s\"/>,\n",
       " <img alt=\"\" class=\"yWs4tf\" src=\"https://encrypted-tbn0.gstatic.com/images?q=tbn:ANd9GcQUiLKlQnRKLNdRqS43KOBZBMvnAzJTq4RTrgMrU2X2uLZf-tMJMVFODORR9g&amp;s\"/>,\n",
       " <img alt=\"\" class=\"yWs4tf\" src=\"https://encrypted-tbn0.gstatic.com/images?q=tbn:ANd9GcTu9mmCgrQ8G8WpqM74kT7A6FxUNeQEQzu0gRToLH5MVhwVHIqmM3ZrEj6Wd_8&amp;s\"/>,\n",
       " <img alt=\"\" class=\"yWs4tf\" src=\"https://encrypted-tbn0.gstatic.com/images?q=tbn:ANd9GcS4eQVtHNTYxjMmsJDQZ1nOXU2EFA9uIIlTLVqW17dogAuiZHtPzBe4JQl70Q&amp;s\"/>,\n",
       " <img alt=\"\" class=\"yWs4tf\" src=\"https://encrypted-tbn0.gstatic.com/images?q=tbn:ANd9GcRNYYHBFDv6rb7b5DNVB9b49Jjd3tnOPAPzpkWyfrG0FPcx2OKo2KjDs36FIwA&amp;s\"/>,\n",
       " <img alt=\"\" class=\"yWs4tf\" src=\"https://encrypted-tbn0.gstatic.com/images?q=tbn:ANd9GcRqOWtn3raisS1Zhg3axmpX52HGuXSQ6nVh_3REhQC40Q8INm2vBWyeel7rlQ&amp;s\"/>,\n",
       " <img alt=\"\" class=\"yWs4tf\" src=\"https://encrypted-tbn0.gstatic.com/images?q=tbn:ANd9GcTKe5nW8LYWrh3AEyGhPbLlCtZX3r_fXhLXRnbzHkgf-XAPgNw1Tu8ANJJzeA&amp;s\"/>,\n",
       " <img alt=\"\" class=\"yWs4tf\" src=\"https://encrypted-tbn0.gstatic.com/images?q=tbn:ANd9GcRtXXFJV5xIUP3tZE6eAWHXjwJ7wEeBwdUt-bGVJrqrsmRnzOvwO3CfvZW02xA&amp;s\"/>]"
      ]
     },
     "execution_count": 31,
     "metadata": {},
     "output_type": "execute_result"
    }
   ],
   "source": [
    "del img_tags[0]\n",
    "img_tags"
   ]
  },
  {
   "cell_type": "code",
   "execution_count": 32,
   "id": "a998a33b-4c5e-4eb8-be63-21ee38cc6cf4",
   "metadata": {},
   "outputs": [
    {
     "data": {
      "text/plain": [
       "19"
      ]
     },
     "execution_count": 32,
     "metadata": {},
     "output_type": "execute_result"
    }
   ],
   "source": [
    "len(img_tags)"
   ]
  },
  {
   "cell_type": "code",
   "execution_count": 33,
   "id": "db980bd8-2138-403b-9336-2f874aab073a",
   "metadata": {},
   "outputs": [],
   "source": [
    "for i in img_tags:\n",
    "    image_url=i['src']\n",
    "    image_data=requests.get(image_url).content\n",
    "    with open(os.path.join(save_dir,f\"{query}_{img_tags.index(i)}.jpg\"),\"wb\") as f:\n",
    "        f.write(image_data)"
   ]
  },
  {
   "cell_type": "code",
   "execution_count": null,
   "id": "7f1e030c-064b-438e-8024-4db9248d0fe3",
   "metadata": {},
   "outputs": [],
   "source": []
  }
 ],
 "metadata": {
  "kernelspec": {
   "display_name": "Python 3 (ipykernel)",
   "language": "python",
   "name": "python3"
  },
  "language_info": {
   "codemirror_mode": {
    "name": "ipython",
    "version": 3
   },
   "file_extension": ".py",
   "mimetype": "text/x-python",
   "name": "python",
   "nbconvert_exporter": "python",
   "pygments_lexer": "ipython3",
   "version": "3.8.0"
  }
 },
 "nbformat": 4,
 "nbformat_minor": 5
}
